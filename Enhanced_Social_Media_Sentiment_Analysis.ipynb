{
  "nbformat": 4,
  "nbformat_minor": 0,
  "metadata": {
    "colab": {
      "provenance": []
    },
    "kernelspec": {
      "name": "python3",
      "display_name": "Python 3"
    },
    "language_info": {
      "name": "python"
    }
  },
  "cells": [
    {
      "cell_type": "code",
      "execution_count": null,
      "metadata": {
        "id": "FABUCEpFBdML"
      },
      "outputs": [],
      "source": [
        "# Code by MUHAMMAD ASHBIL SHAHID & MUHAMMAD SALMAN\n",
        "# IMPORTANT: RUN THIS CELL IN ORDER\n",
        "# FEEL FREE TO CHECK IT OUT ON GITHUB: https://github.com/AshbilShahid/Enhanced-Social-Media-Sentiment-Analysis\n",
        "# THANK YOU FOR YOUR TIME!"
      ]
    },
    {
      "cell_type": "markdown",
      "source": [
        "# Necessary Libraries"
      ],
      "metadata": {
        "id": "c71ELLrfZiQZ"
      }
    },
    {
      "cell_type": "code",
      "source": [
        "!pip install gradio\n",
        "import joblib\n",
        "import gradio as gr\n",
        "import numpy as np\n",
        "import re\n",
        "from textblob import TextBlob\n",
        "import plotly.express as px\n",
        "import plotly.graph_objects as go"
      ],
      "metadata": {
        "id": "BNsZ3eRPDsnq"
      },
      "execution_count": null,
      "outputs": []
    },
    {
      "cell_type": "markdown",
      "source": [
        "# Upload Model and Vectorizer"
      ],
      "metadata": {
        "id": "ONUECzqsDs5-"
      }
    },
    {
      "cell_type": "code",
      "source": [
        "!wget https://github.com/AshbilShahid/Enhanced-Social-Media-Sentiment-Analysis/raw/main/sentiment_model.pkl\n",
        "!wget https://github.com/AshbilShahid/Enhanced-Social-Media-Sentiment-Analysis/raw/main/vectorizer.pkl\n",
        "# Load the trained model and vectorizer\n",
        "try:\n",
        "    model = joblib.load('/content/sentiment_model.pkl')\n",
        "    vectorizer = joblib.load('/content/vectorizer.pkl')\n",
        "    print(\"Model and vectorizer loaded successfully.\")\n",
        "except Exception as e:\n",
        "    print(f\"Error loading model or vectorizer: {e}\")"
      ],
      "metadata": {
        "id": "7nMvM93vDtSS"
      },
      "execution_count": null,
      "outputs": []
    },
    {
      "cell_type": "markdown",
      "source": [
        "# Load the Necessary Functions"
      ],
      "metadata": {
        "id": "M8QQRDTxGIvA"
      }
    },
    {
      "cell_type": "code",
      "source": [
        "# Text Preprocessing Function\n",
        "def preprocess_text(text):\n",
        "    text = text.lower()\n",
        "    text = re.sub(r'[^\\w\\s]', '', text)\n",
        "    return text\n",
        "\n",
        "# Prediction Function with Enhanced Feedback\n",
        "def predict_sentiment(text):\n",
        "    try:\n",
        "        # Preprocess the input text\n",
        "        clean_text = preprocess_text(text)\n",
        "\n",
        "        # Vectorize and predict\n",
        "        text_tfidf = vectorizer.transform([clean_text])\n",
        "        prediction = model.predict(text_tfidf)[0]\n",
        "        prediction_proba = model.predict_proba(text_tfidf)[0]\n",
        "        confidence_score = round(np.max(prediction_proba) * 100, 2)  # Confidence in %\n",
        "\n",
        "        # Effectiveness Calculation using TextBlob\n",
        "        polarity = TextBlob(clean_text).sentiment.polarity\n",
        "        effectiveness_score = max(0, min(100, confidence_score + (polarity * 20)))\n",
        "\n",
        "        # Improvement Suggestions\n",
        "        if effectiveness_score < 60:\n",
        "            improvement_suggestions = \"Consider clearer, more vivid language to convey sentiment.\"\n",
        "        elif prediction == \"positive\":\n",
        "            improvement_suggestions = \"Add emotional depth for better engagement.\"\n",
        "        elif prediction == \"negative\":\n",
        "            improvement_suggestions = \"Add specific examples or context to support your point.\"\n",
        "        else:\n",
        "            improvement_suggestions = \"Try focusing on clarity for a stronger message.\"\n",
        "\n",
        "        # Plotly Confidence Plot\n",
        "        labels = [\"Negative\", \"Neutral\", \"Positive\"]\n",
        "        fig = go.Figure(data=[go.Bar(x=labels, y=prediction_proba, marker_color=['red', 'gray', 'green'])])\n",
        "        fig.update_layout(\n",
        "            title=\"Sentiment Confidence Scores\",\n",
        "            xaxis_title=\"Sentiment\",\n",
        "            yaxis_title=\"Confidence\",\n",
        "            yaxis=dict(range=[0, 1])\n",
        "        )\n",
        "\n",
        "        # Return the structured output for Gradio\n",
        "        return prediction, f\"{confidence_score}%\", f\"{effectiveness_score}%\", improvement_suggestions, fig\n",
        "\n",
        "    except Exception as e:\n",
        "        print(f\"Error in prediction function: {e}\")\n",
        "        return \"Error\", \"Error\", \"Error\", \"Error\", go.Figure()  # Return empty figure on error"
      ],
      "metadata": {
        "id": "3QXqZ72KGJN4"
      },
      "execution_count": 7,
      "outputs": []
    },
    {
      "cell_type": "markdown",
      "source": [
        "# Gradio Interface"
      ],
      "metadata": {
        "id": "yylTZ7kIGOAl"
      }
    },
    {
      "cell_type": "code",
      "source": [
        "# Be sure to Click the gradio Link after the Function of the Cell Complete to Launch the Interface\n",
        "# Set up the Gradio interface with proper outputs\n",
        "interface = gr.Interface(\n",
        "    fn=predict_sentiment,\n",
        "    inputs=\"text\",\n",
        "    outputs=[\n",
        "        gr.Textbox(label=\"Sentiment Prediction\"),\n",
        "        gr.Textbox(label=\"Confidence Score (%)\"),\n",
        "        gr.Textbox(label=\"Effectiveness Score (%)\"),\n",
        "        gr.Textbox(label=\"Improvement Suggestions\"),\n",
        "        gr.Plot(label=\"Confidence Plot\")\n",
        "    ],\n",
        "    title=\"Enhanced Social Media Sentiment Analysis\",\n",
        "    description=\"Enter text to analyze its sentiment, confidence, effectiveness, and get suggestions for improvement.\",\n",
        "    examples=[\"I love this product!\", \"This is the worst experience I've ever had.\", \"I'm not sure about this...\"]\n",
        ")\n",
        "\n",
        "# Launch the Gradio interface\n",
        "interface.launch()"
      ],
      "metadata": {
        "id": "3sq5gXRSGOXx"
      },
      "execution_count": null,
      "outputs": []
    }
  ]
}